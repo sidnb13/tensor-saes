{
 "cells": [
  {
   "cell_type": "code",
   "execution_count": 1,
   "metadata": {},
   "outputs": [
    {
     "name": "stdout",
     "output_type": "stream",
     "text": [
      "env: CUDA_LAUNCH_BLOCKING=1\n"
     ]
    }
   ],
   "source": [
    "# testing consequences of interventions on gpt2, and how they match up against our SAE's\n",
    "from functools import partial\n",
    "\n",
    "import datasets\n",
    "import seaborn as sns\n",
    "import torch\n",
    "import torch.nn.functional as F\n",
    "from einops import einsum\n",
    "from safetensors.torch import load_file\n",
    "from tqdm import tqdm\n",
    "from transformers import AutoModelForCausalLM, AutoTokenizer\n",
    "\n",
    "from sae.data import chunk_and_tokenize\n",
    "\n",
    "%env CUDA_LAUNCH_BLOCKING=1"
   ]
  },
  {
   "cell_type": "code",
   "execution_count": 2,
   "metadata": {},
   "outputs": [],
   "source": [
    "# model_name = \"gpt2\"\n",
    "# ckpt_path = \"/home/sid/tensor-sae/checkpoints/all-layer-test/sae.safetensors\"\n",
    "ckpt_path = \"/home/sid/tensor-sae/checkpoints/pythia14m-all-layers-rp1t/pythia14m-all-layers-rp1t-sample_20240907_194626/layers.0_layers.1_layers.2_layers.3_layers.4_layers.5/sae-915.safetensors\"\n",
    "model_name = \"EleutherAI/pythia-14m\""
   ]
  },
  {
   "cell_type": "code",
   "execution_count": 3,
   "metadata": {},
   "outputs": [
    {
     "name": "stdout",
     "output_type": "stream",
     "text": [
      "shape of output embeddings: torch.Size([2, 128])\n",
      "shape of causal embeddings: torch.Size([2, 4, 128])\n"
     ]
    }
   ],
   "source": [
    "# to use jacrevd need eager implementation\n",
    "model = AutoModelForCausalLM.from_pretrained(\n",
    "    model_name, attn_implementation=\"eager\"\n",
    ").cuda()\n",
    "tokenizer = AutoTokenizer.from_pretrained(model_name)\n",
    "\n",
    "sae_ckpt = load_file(ckpt_path, device=\"cuda:0\")\n",
    "\n",
    "feature_encoder_weights = sae_ckpt.get(\"encoder.weight\", sae_ckpt.get(\"weight\"))\n",
    "feature_encoder_bias = sae_ckpt.get(\"encoder.bias\", sae_ckpt.get(\"bias\"))\n",
    "# legacy keys\n",
    "feature_decoder_weights = sae_ckpt[\"decoder.weight\"]\n",
    "feature_decoder_bias = sae_ckpt[\"decoder.bias\"]\n",
    "\n",
    "intervention_index = 2\n",
    "readout_index = 4\n",
    "\n",
    "\n",
    "def create_hooks(\n",
    "    model,\n",
    "    intervention_index,\n",
    "    readout_index,\n",
    "    lambda_value,\n",
    "    feature_encoder_weights,\n",
    "    feature_encoder_bias,\n",
    "    feature_decoder_weights,\n",
    "    feature_select_k=1,  # take top k-th feature\n",
    "    num_tokens=1,\n",
    "):\n",
    "    activation_positions = None\n",
    "    consequent_embeddings = None\n",
    "    causal_embeddings = None\n",
    "    max_feature_index = None\n",
    "    # j < k in layer idx\n",
    "    v_j = None\n",
    "    v_k = None\n",
    "\n",
    "    def strengthen_sae_feature(module, input, output, layer_offset=0):\n",
    "        nonlocal activation_positions, causal_embeddings, v_j, v_k, max_feature_index\n",
    "\n",
    "        embed_dim = output[0].shape[-1]\n",
    "        feature_encoder_segment = feature_encoder_weights[\n",
    "            :,\n",
    "            (intervention_index - layer_offset) * embed_dim : (\n",
    "                intervention_index - layer_offset + 1\n",
    "            )\n",
    "            * embed_dim,\n",
    "        ]\n",
    "        feature_decoder_segment = feature_decoder_weights[\n",
    "            :,\n",
    "            (intervention_index - layer_offset) * embed_dim : (\n",
    "                intervention_index - layer_offset + 1\n",
    "            )\n",
    "            * embed_dim,\n",
    "        ]\n",
    "\n",
    "        feature_activation = (\n",
    "            einsum(output[0], feature_encoder_segment.T, \"b s e, e n -> b s n\")\n",
    "            - feature_encoder_bias\n",
    "        )\n",
    "        # shape (batch_size, seq_len, 1)\n",
    "        feature_activation, max_feature_index = torch.kthvalue(\n",
    "            feature_activation,\n",
    "            k=feature_activation.shape[-1] - feature_select_k,\n",
    "            dim=-1,\n",
    "        )\n",
    "\n",
    "        activation_positions = (\n",
    "            (feature_activation > 0).float().topk(k=num_tokens, dim=1)[1]\n",
    "        )\n",
    "        has_activation = (feature_activation > 0).any(dim=1)\n",
    "        activation_positions[~has_activation] = -1\n",
    "\n",
    "        batch_size, seq_len, embed_dim = output[0].shape\n",
    "\n",
    "        mask = torch.arange(seq_len, device=output[0].device)[None, None, :].expand(\n",
    "            batch_size, -1, -1\n",
    "        ) == activation_positions.unsqueeze(-1).expand(-1, -1, seq_len)\n",
    "        mask = mask.any(dim=1)\n",
    "\n",
    "        causal_embeddings = output[0]\n",
    "\n",
    "        # (batch_size, seq_len, embed_dim)\n",
    "        v_j = (\n",
    "            feature_decoder_segment.unsqueeze(0)\n",
    "            .expand(output[0].shape[0], -1, -1)\n",
    "            .gather(1, max_feature_index.unsqueeze(-1).expand(-1, -1, embed_dim))\n",
    "        )\n",
    "\n",
    "        new_output = output[0] + lambda_value * mask[:, :, None] * v_j\n",
    "\n",
    "        intervention_decoder_segment = feature_decoder_weights[\n",
    "            :,\n",
    "            (readout_index - layer_offset) * embed_dim : (\n",
    "                readout_index - layer_offset + 1\n",
    "            )\n",
    "            * embed_dim,\n",
    "        ]\n",
    "        v_k = (\n",
    "            intervention_decoder_segment.unsqueeze(0)\n",
    "            .expand(output[0].shape[0], -1, -1)\n",
    "            .gather(1, max_feature_index.unsqueeze(-1).expand(-1, -1, embed_dim))\n",
    "        )\n",
    "\n",
    "        new_outputs = [new_output] + list(output[1:])\n",
    "        return tuple(new_outputs)\n",
    "\n",
    "    def return_consequent_layer(module, input, output):\n",
    "        nonlocal consequent_embeddings, activation_positions\n",
    "\n",
    "        filtered_output = output[0]\n",
    "        # TODO: best to sum over the tokens? One way of reducing bias\n",
    "        consequent_embeddings = filtered_output.sum(dim=1)\n",
    "\n",
    "        # Return the original output unchanged\n",
    "        return output\n",
    "\n",
    "    if \"gpt\" in model_name:\n",
    "        intervention_hook = model.transformer.h[\n",
    "            intervention_index\n",
    "        ].register_forward_hook(\n",
    "            partial(strengthen_sae_feature, layer_offset=intervention_index)\n",
    "        )\n",
    "        readout_hook = model.transformer.h[readout_index].register_forward_hook(\n",
    "            return_consequent_layer\n",
    "        )\n",
    "    else:\n",
    "        intervention_hook = model.gpt_neox.layers[\n",
    "            intervention_index\n",
    "        ].register_forward_hook(\n",
    "            partial(strengthen_sae_feature, layer_offset=intervention_index)\n",
    "        )\n",
    "        readout_hook = model.gpt_neox.layers[readout_index].register_forward_hook(\n",
    "            return_consequent_layer\n",
    "        )\n",
    "\n",
    "    return (\n",
    "        intervention_hook,\n",
    "        readout_hook,\n",
    "        lambda: activation_positions,\n",
    "        lambda: consequent_embeddings,\n",
    "        lambda: causal_embeddings,\n",
    "        lambda: v_j,\n",
    "        lambda: v_k,\n",
    "        lambda: max_feature_index,\n",
    "    )\n",
    "\n",
    "\n",
    "def process_text(\n",
    "    model,\n",
    "    inputs,\n",
    "    intervention_index,\n",
    "    readout_index,\n",
    "    lam,\n",
    "    feature_encoder_weights,\n",
    "    feature_encoder_bias,\n",
    "    feature_decoder_weights,\n",
    "    feature_select_k,\n",
    "    num_tokens,\n",
    "):\n",
    "    (\n",
    "        intervention_hook,\n",
    "        readout_hook,\n",
    "        get_first_activation_positions,\n",
    "        get_consequent_embeddings,\n",
    "        get_causal_embeddings,\n",
    "        get_v_j,\n",
    "        get_v_k,\n",
    "        get_max_feature_index,\n",
    "    ) = create_hooks(\n",
    "        model,\n",
    "        intervention_index,\n",
    "        readout_index,\n",
    "        lam,\n",
    "        feature_encoder_weights,\n",
    "        feature_encoder_bias,\n",
    "        feature_decoder_weights,\n",
    "        feature_select_k,\n",
    "        num_tokens,\n",
    "    )\n",
    "\n",
    "    with torch.no_grad():\n",
    "        model(**inputs)\n",
    "\n",
    "    first_activation_positions = get_first_activation_positions()\n",
    "    consequent_embeddings = get_consequent_embeddings()\n",
    "    causal_embeddings = get_causal_embeddings()\n",
    "    v_j = get_v_j()\n",
    "    v_k = get_v_k()\n",
    "\n",
    "    intervention_hook.remove()\n",
    "    readout_hook.remove()\n",
    "\n",
    "    return (\n",
    "        first_activation_positions,\n",
    "        consequent_embeddings,\n",
    "        causal_embeddings,\n",
    "        v_j,\n",
    "        v_k,\n",
    "        get_max_feature_index(),\n",
    "    )\n",
    "\n",
    "\n",
    "# Example usage\n",
    "intervention_index = 4\n",
    "readout_index = 5\n",
    "text = [\"Hello, world!\", \"Hello, world!\"]\n",
    "inputs = tokenizer(text, return_tensors=\"pt\").to(\"cuda\")\n",
    "\n",
    "# Assuming you have these variables defined\n",
    "# feature_encoder_weights, feature_encoder_bias, feature_decoder_weights\n",
    "\n",
    "(\n",
    "    first_activation_positions,\n",
    "    consequent_embeddings,\n",
    "    causal_embeddings,\n",
    "    _,\n",
    "    _,\n",
    "    max_feature_index,\n",
    ") = process_text(\n",
    "    model,\n",
    "    inputs,\n",
    "    intervention_index,\n",
    "    readout_index,\n",
    "    1.0,\n",
    "    feature_encoder_weights,\n",
    "    feature_encoder_bias,\n",
    "    feature_decoder_weights,\n",
    "    1,\n",
    "    1,\n",
    ")\n",
    "\n",
    "print(f\"shape of output embeddings: {consequent_embeddings.shape}\")\n",
    "print(f\"shape of causal embeddings: {causal_embeddings.shape}\")"
   ]
  },
  {
   "cell_type": "code",
   "execution_count": 4,
   "metadata": {},
   "outputs": [
    {
     "data": {
      "text/plain": [
       "tensor([[ 9423, 17540, 12526, 14170],\n",
       "        [ 9423, 17540, 12526, 14170]], device='cuda:0')"
      ]
     },
     "execution_count": 4,
     "metadata": {},
     "output_type": "execute_result"
    }
   ],
   "source": [
    "max_feature_index"
   ]
  },
  {
   "cell_type": "code",
   "execution_count": 5,
   "metadata": {},
   "outputs": [],
   "source": [
    "#next code we would need to add:\n",
    "#filter out any batch elements where the SAE doesn't trigger\n",
    "#compare to activations from a hook on the clean sequence\n",
    "#subtract, compute comparisons, etc.!"
   ]
  },
  {
   "cell_type": "code",
   "execution_count": 6,
   "metadata": {},
   "outputs": [],
   "source": [
    "#I suspect the most efficient way to go about thos jacobian computation is to modify the gpt2 forward pass"
   ]
  },
  {
   "cell_type": "code",
   "execution_count": 7,
   "metadata": {},
   "outputs": [
    {
     "name": "stderr",
     "output_type": "stream",
     "text": [
      "num_proc must be <= 16. Reducing num_proc to 16 for dataset of size 16.\n"
     ]
    }
   ],
   "source": [
    "dataset = datasets.load_dataset(\n",
    "    \"togethercomputer/RedPajama-Data-1T-Sample\",\n",
    "    split=\"train\",\n",
    "    trust_remote_code=True,\n",
    ").select(range(16))\n",
    "tokenizer = AutoTokenizer.from_pretrained(\"gpt2\")\n",
    "tokenized = chunk_and_tokenize(dataset, tokenizer, max_seq_len=64)"
   ]
  },
  {
   "cell_type": "code",
   "execution_count": 8,
   "metadata": {},
   "outputs": [
    {
     "data": {
      "text/plain": [
       "Dataset({\n",
       "    features: ['input_ids', 'overflow_to_sample_mapping'],\n",
       "    num_rows: 4299\n",
       "})"
      ]
     },
     "execution_count": 8,
     "metadata": {},
     "output_type": "execute_result"
    }
   ],
   "source": [
    "tokenized"
   ]
  },
  {
   "cell_type": "code",
   "execution_count": 9,
   "metadata": {},
   "outputs": [],
   "source": [
    "# Collect activations from GPT2\n",
    "sample = tokenized[0:2][\"input_ids\"]\n",
    "\n",
    "j, k = 1, 2\n",
    "lam = 1e-2\n",
    "(\n",
    "    activation_positions,\n",
    "    consequent_embeddings_intervened,\n",
    "    causal_embeddings,\n",
    "    v_j,\n",
    "    v_k,\n",
    "    _,\n",
    ") = process_text(\n",
    "    model,\n",
    "    {\n",
    "        \"input_ids\": sample.cuda(),\n",
    "        \"attention_mask\": torch.ones_like(sample, device=\"cuda:0\"),\n",
    "    },\n",
    "    j,\n",
    "    k,\n",
    "    lam,\n",
    "    feature_encoder_weights,\n",
    "    feature_encoder_bias,\n",
    "    feature_decoder_weights,\n",
    "    1,\n",
    "    1,\n",
    ")\n",
    "(_, consequent_embeddings_clean, _, _, _, _) = process_text(\n",
    "    model,\n",
    "    {\n",
    "        \"input_ids\": sample.cuda(),\n",
    "        \"attention_mask\": torch.ones_like(sample, device=\"cuda:0\"),\n",
    "    },\n",
    "    j,\n",
    "    k,\n",
    "    0,\n",
    "    feature_encoder_weights,\n",
    "    feature_encoder_bias,\n",
    "    feature_decoder_weights,\n",
    "    1,\n",
    "    1,\n",
    ")"
   ]
  },
  {
   "cell_type": "code",
   "execution_count": 10,
   "metadata": {},
   "outputs": [],
   "source": [
    "from torch.func import functional_call, jacrev, vmap\n",
    "\n",
    "\n",
    "def compute_jacobian(model, j_activations, pos, j, k):\n",
    "    \"\"\"\n",
    "    Compute the batched Jacobians of layer k's activations with respect to layer j's activations for some select K tokens.\n",
    "\n",
    "    Args:\n",
    "    - model: GPT2Model instance\n",
    "    - j_activations: activations of layer j (shape: [batch_size, seq_len, hidden_size])\n",
    "    - pos: token positions of shape (B, K)\n",
    "    - j: index of the input layer\n",
    "    - k: index of the output layer\n",
    "\n",
    "    Returns:\n",
    "    - Batch of Jacobians\n",
    "    \"\"\"\n",
    "    # Ensure j_activations requires grad\n",
    "    j_activations.requires_grad_(True)\n",
    "\n",
    "    # Forward pass to get k_activations\n",
    "    def forward_to_k(x):\n",
    "        # Forward pass from j to k\n",
    "        activations = x.unsqueeze(1)\n",
    "        for layer_idx in range(j, k + 1):\n",
    "\n",
    "            def functional_layer(inputs):\n",
    "                if \"gpt\" in model_name:\n",
    "                    layer, params = (\n",
    "                        model.transformer.h[layer_idx],\n",
    "                        dict(model.transformer.h[layer_idx].named_parameters()),\n",
    "                    )\n",
    "                else:\n",
    "                    layer, params = (\n",
    "                        model.gpt_neox.layers[layer_idx],\n",
    "                        dict(model.gpt_neox.layers[layer_idx].named_parameters()),\n",
    "                    )\n",
    "\n",
    "                return functional_call(\n",
    "                    layer,\n",
    "                    params,\n",
    "                    inputs,\n",
    "                )[0]\n",
    "\n",
    "            activations = functional_layer(activations)\n",
    "\n",
    "        return activations\n",
    "\n",
    "    # good idea to sum here to reduce bias?\n",
    "    j_activations = j_activations.gather(\n",
    "        1, pos.unsqueeze(-1).expand(-1, -1, j_activations.shape[-1])\n",
    "    ).sum(dim=1, keepdim=True)\n",
    "\n",
    "    # Compute Jacobian\n",
    "    jacobian = vmap(jacrev(forward_to_k))(j_activations)\n",
    "\n",
    "    return jacobian.squeeze()\n",
    "    # But if we're pre-computing, we could just return the jacobian.squeeze(0,2)"
   ]
  },
  {
   "cell_type": "code",
   "execution_count": 11,
   "metadata": {},
   "outputs": [
    {
     "name": "stdout",
     "output_type": "stream",
     "text": [
      "torch.Size([2, 1]) torch.Size([2, 64, 128])\n",
      "Jacobian shape: torch.Size([2, 128, 128])\n"
     ]
    },
    {
     "name": "stderr",
     "output_type": "stream",
     "text": [
      "/home/sid/miniconda3/envs/sae/lib/python3.10/site-packages/torch/autograd/graph.py:744: UserWarning: Attempting to run cuBLAS, but there was no current CUDA context! Attempting to set the primary context... (Triggered internally at ../aten/src/ATen/cuda/CublasHandlePool.cpp:135.)\n",
      "  return Variable._execution_engine.run_backward(  # Calls into the C++ engine to run the backward pass\n"
     ]
    }
   ],
   "source": [
    "# Generate random input\n",
    "# batch_size, seq_len = 1, 10\n",
    "# j_activations = torch.randn(batch_size, seq_len, 768, device=\"cuda:1\")\n",
    "i = torch.zeros(causal_embeddings.shape[0], 1, device=\"cuda\").long()\n",
    "\n",
    "print(i.shape, causal_embeddings.shape)\n",
    "\n",
    "jacobian = compute_jacobian(model, causal_embeddings, i, j, k)\n",
    "\n",
    "print(f\"Jacobian shape: {jacobian.shape}\")"
   ]
  },
  {
   "cell_type": "code",
   "execution_count": 12,
   "metadata": {},
   "outputs": [
    {
     "name": "stdout",
     "output_type": "stream",
     "text": [
      "error: 4.305004495108733e-06\n"
     ]
    }
   ],
   "source": [
    "# Check consequent_embeddings ~= original_embeddings_at_the_higher_layer + jacobian @ v_j * lam\n",
    "with torch.no_grad():\n",
    "    jacobian_approx = (\n",
    "        consequent_embeddings_clean\n",
    "        + torch.bmm(\n",
    "            v_j.gather(1, i.unsqueeze(-1).expand(-1, -1, v_j.shape[-1])),\n",
    "            jacobian.transpose(-2, -1),\n",
    "        )\n",
    "        * lam\n",
    "    )\n",
    "\n",
    "error = torch.mean((consequent_embeddings_intervened - jacobian_approx) ** 2)\n",
    "\n",
    "print(f\"error: {error}\")"
   ]
  },
  {
   "cell_type": "code",
   "execution_count": 13,
   "metadata": {},
   "outputs": [
    {
     "data": {
      "text/plain": [
       "torch.Size([2, 64, 128])"
      ]
     },
     "execution_count": 13,
     "metadata": {},
     "output_type": "execute_result"
    }
   ],
   "source": [
    "v_j.shape"
   ]
  },
  {
   "cell_type": "code",
   "execution_count": 14,
   "metadata": {},
   "outputs": [],
   "source": [
    "def get_active_latents_first_pos(\n",
    "    output, feature_encoder_weights, feature_encoder_bias, i, j\n",
    "):\n",
    "    # concat hidden states for layer range\n",
    "    all_hidden_states = torch.cat(\n",
    "        [output.hidden_states[idx] for idx in range(i, j + 1)], dim=-1\n",
    "    )\n",
    "    feature_activation = (\n",
    "        einsum(all_hidden_states, feature_encoder_weights.T, \"b s e, e n -> b s n\")\n",
    "        - feature_encoder_bias\n",
    "    )\n",
    "    max_feature_activation, _ = torch.max(feature_activation, dim=-1)\n",
    "    # get first positions where maximal feature is activated\n",
    "    first_activation_positions = (\n",
    "        (max_feature_activation > 0).float().argmax(dim=1, keepdim=True)\n",
    "    )\n",
    "    expanded_pos = first_activation_positions.unsqueeze(-1).expand(\n",
    "        -1, -1, all_hidden_states.shape[-1]\n",
    "    )\n",
    "    token_activations = all_hidden_states.gather(1, expanded_pos)\n",
    "    num_fired = (token_activations > 0).sum(dim=-1)\n",
    "\n",
    "    return num_fired"
   ]
  },
  {
   "cell_type": "code",
   "execution_count": 15,
   "metadata": {},
   "outputs": [],
   "source": [
    "dataset = datasets.load_dataset(\n",
    "    \"togethercomputer/RedPajama-Data-1T-Sample\",\n",
    "    split=\"train\",\n",
    "    trust_remote_code=True,\n",
    ")\n",
    "tokenizer = AutoTokenizer.from_pretrained(\"gpt2\")\n",
    "tokenized = chunk_and_tokenize(dataset, tokenizer, max_seq_len=128)"
   ]
  },
  {
   "cell_type": "code",
   "execution_count": 16,
   "metadata": {},
   "outputs": [],
   "source": [
    "# Define, lower and upper bounds for layers\n",
    "i, j = 0, 11"
   ]
  },
  {
   "cell_type": "code",
   "execution_count": 17,
   "metadata": {},
   "outputs": [],
   "source": [
    "# import gc\n",
    "\n",
    "import matplotlib.pyplot as plt\n",
    "\n",
    "num_samples = 8192\n",
    "bsz = 128\n",
    "# for each sample compute activation positions and fired pre-act latents\n",
    "sample = tokenized.select(range(num_samples))\n",
    "\n",
    "# dist = []\n",
    "\n",
    "# for batch in tqdm(sample.iter(bsz), total=num_samples // bsz):\n",
    "#     with torch.no_grad():\n",
    "#         out = model(\n",
    "#             input_ids=batch[\"input_ids\"].cuda().unsqueeze(0), output_hidden_states=True\n",
    "#         )\n",
    "#     num_active = get_active_latents_first_pos(\n",
    "#         out, feature_encoder_weights, feature_encoder_bias, i, j\n",
    "#     )\n",
    "#     dist.extend(num_active.squeeze().cpu().tolist())\n",
    "\n",
    "# torch.cuda.empty_cache()\n",
    "# gc.collect()\n",
    "\n",
    "\n",
    "# # Create the histogram\n",
    "# plt.figure(figsize=(10, 6))\n",
    "# plt.title(\"Active Latents on Tokens activating Max Feature\")\n",
    "# _ = plt.hist(dist, bins=30, edgecolor=\"black\")"
   ]
  },
  {
   "cell_type": "code",
   "execution_count": 18,
   "metadata": {},
   "outputs": [],
   "source": [
    "def get_active_latents_heatmap(\n",
    "    output, feature_encoder_weights, feature_encoder_bias, i, j\n",
    "):\n",
    "    # Concatenate hidden states for layer range\n",
    "    all_hidden_states = torch.cat(\n",
    "        [output.hidden_states[idx] for idx in range(i, j + 1)], dim=-1\n",
    "    )\n",
    "\n",
    "    # Calculate feature activation\n",
    "    feature_activation = (\n",
    "        torch.einsum(\"bse,en->bsn\", all_hidden_states, feature_encoder_weights.T)\n",
    "        - feature_encoder_bias\n",
    "    )\n",
    "\n",
    "    # Count number of active latents for each token\n",
    "    num_active_latents = (feature_activation > 0).sum(dim=-1)\n",
    "\n",
    "    return num_active_latents\n",
    "\n",
    "\n",
    "def visualize_heatmap_batch(heatmap_data, token_labels_batch, max_tokens_display=30):\n",
    "    batch_size, seq_length = heatmap_data.shape\n",
    "\n",
    "    # Create a figure with subplots for each batch item\n",
    "    fig, axes = plt.subplots(batch_size, 1, figsize=(20, 3 * batch_size), squeeze=False)\n",
    "    fig.suptitle(\"Active Latents Heatmap (Batch)\", fontsize=16)\n",
    "\n",
    "    for b in range(batch_size):\n",
    "        ax = axes[b, 0]\n",
    "\n",
    "        # Limit the number of tokens displayed\n",
    "        display_tokens = min(seq_length, max_tokens_display)\n",
    "        heatmap = heatmap_data[b, :display_tokens].unsqueeze(0).cpu().numpy()\n",
    "        token_labels = token_labels_batch[b][:display_tokens]\n",
    "\n",
    "        sns.heatmap(\n",
    "            heatmap,\n",
    "            cmap=\"YlOrRd\",\n",
    "            xticklabels=token_labels,\n",
    "            yticklabels=[\"\"],\n",
    "            ax=ax,\n",
    "            cbar=(b == batch_size - 1),\n",
    "        )  # Only show colorbar for the last subplot\n",
    "\n",
    "        ax.set_title(f\"Batch item {b}\")\n",
    "        ax.set_xlabel(\"Tokens\")\n",
    "\n",
    "        # Rotate and align x-axis labels for better readability\n",
    "        ax.set_xticklabels(ax.get_xticklabels(), rotation=45, ha=\"right\")\n",
    "\n",
    "        # Add ellipsis if not all tokens are displayed\n",
    "        if display_tokens < seq_length:\n",
    "            ax.text(\n",
    "                display_tokens + 0.5,\n",
    "                0.5,\n",
    "                \"...\",\n",
    "                verticalalignment=\"center\",\n",
    "                horizontalalignment=\"left\",\n",
    "            )\n",
    "\n",
    "    plt.tight_layout()\n",
    "    plt.show()"
   ]
  },
  {
   "cell_type": "code",
   "execution_count": 19,
   "metadata": {},
   "outputs": [],
   "source": [
    "def active_latents_heatmap(i, j):\n",
    "    sample_input = tokenized.select(range(4))\n",
    "    out = model(input_ids=sample_input[\"input_ids\"].cuda(), output_hidden_states=True)\n",
    "\n",
    "    active_latents_tokenwise = get_active_latents_heatmap(\n",
    "        out, feature_encoder_weights, feature_encoder_bias, i, j\n",
    "    )\n",
    "    visualize_heatmap_batch(\n",
    "        active_latents_tokenwise,\n",
    "        [tokenizer.convert_ids_to_tokens(x) for x in sample_input[\"input_ids\"]],\n",
    "        j,\n",
    "    )"
   ]
  },
  {
   "cell_type": "code",
   "execution_count": 20,
   "metadata": {},
   "outputs": [],
   "source": [
    "@torch.no_grad()\n",
    "def compute_causal_attribution_strength(\n",
    "    j,\n",
    "    k,\n",
    "    model,\n",
    "    inputs,\n",
    "    feature_encoder_weights,\n",
    "    feature_encoder_bias,\n",
    "    feature_decoder_weights,\n",
    "    lambda_value: float = 1.0,\n",
    "    feature_select_k: int = 1,\n",
    "    num_tokens: int = 1,\n",
    "):\n",
    "    (\n",
    "        first_activation_positions,\n",
    "        consequent_embeddings_intervened,\n",
    "        causal_embeddings,\n",
    "        v_j,\n",
    "        v_k,\n",
    "        max_feature_index,\n",
    "    ) = process_text(\n",
    "        model,\n",
    "        inputs,\n",
    "        intervention_index,\n",
    "        readout_index,\n",
    "        lambda_value,\n",
    "        feature_encoder_weights,\n",
    "        feature_encoder_bias,\n",
    "        feature_decoder_weights,\n",
    "        feature_select_k,\n",
    "        num_tokens,\n",
    "    )\n",
    "\n",
    "    expanded_pos = first_activation_positions.unsqueeze(-1).expand(\n",
    "        -1, -1, causal_embeddings.shape[-1]\n",
    "    )\n",
    "\n",
    "    # invalid, failed run\n",
    "    if (expanded_pos == -1).all(dim=1).any():\n",
    "        return torch.zeros(1), torch.zeros(1), torch.zeros(1)\n",
    "\n",
    "    v_j = v_j.gather(1, expanded_pos)\n",
    "    v_k = v_k.gather(1, expanded_pos)\n",
    "\n",
    "    jacobian = compute_jacobian(\n",
    "        model, causal_embeddings, first_activation_positions, j, k\n",
    "    )\n",
    "    # proportion of causality explained: compute vk.T(Jv_j) / ||v_k||_2^2\n",
    "    v_k_norm_squared = torch.norm(v_k, p=2, dim=(1, 2)).pow(2)  # shape: (B,)\n",
    "    # Compute the whole expression using einsum\n",
    "\n",
    "    proportion_explained = (\n",
    "        torch.einsum(\"bie,be,bi->b\", jacobian, v_j.sum(1), v_k.sum(1))\n",
    "        / v_k_norm_squared\n",
    "    )\n",
    "    # error term\n",
    "    pred = torch.einsum(\"bie,be->bi\", jacobian, v_j.sum(1))\n",
    "    strength = F.cosine_similarity(pred, v_k.sum(1), dim=-1)\n",
    "    error = torch.mean((pred - v_k.sum(1)) ** 2, dim=-1)\n",
    "\n",
    "    relative_error = error / v_k_norm_squared\n",
    "\n",
    "    return (\n",
    "        proportion_explained,\n",
    "        strength,\n",
    "        error,\n",
    "        relative_error,\n",
    "        jacobian,\n",
    "        v_j,\n",
    "        v_k,\n",
    "        max_feature_index,\n",
    "    )"
   ]
  },
  {
   "cell_type": "code",
   "execution_count": 21,
   "metadata": {},
   "outputs": [],
   "source": [
    "import numpy as np\n",
    "from torch.utils.data import DataLoader\n",
    "\n",
    "\n",
    "def process_dataset(\n",
    "    model,\n",
    "    dataset,\n",
    "    batch_size,\n",
    "    i,\n",
    "    j,\n",
    "    feature_encoder_weights,\n",
    "    feature_encoder_bias,\n",
    "    feature_decoder_weights,\n",
    "    lambda_value,\n",
    "    feature_select_k,\n",
    "    num_tokens,\n",
    "):\n",
    "    dataloader = DataLoader(dataset, batch_size=batch_size, shuffle=False)\n",
    "    all_causality = []\n",
    "    all_strengths = []\n",
    "    all_errors = []\n",
    "    relative_errors = []\n",
    "\n",
    "    for batch in tqdm(dataloader):\n",
    "        inputs = {\"input_ids\": batch[\"input_ids\"].cuda()}\n",
    "        causality, strengths, error, relative_error, _, _, _, _ = (\n",
    "            compute_causal_attribution_strength(\n",
    "                i,\n",
    "                j,\n",
    "                model,\n",
    "                inputs,\n",
    "                feature_encoder_weights,\n",
    "                feature_encoder_bias,\n",
    "                feature_decoder_weights,\n",
    "                lambda_value,\n",
    "                feature_select_k,\n",
    "                num_tokens,\n",
    "            )\n",
    "        )\n",
    "        all_causality.extend(causality.cpu().numpy())\n",
    "        all_strengths.extend(strengths.cpu().numpy())\n",
    "        all_errors.extend(error.cpu().numpy())\n",
    "        relative_errors.extend(relative_error.cpu().numpy())\n",
    "\n",
    "    return (\n",
    "        np.array(all_causality),\n",
    "        np.array(all_strengths),\n",
    "        np.array(all_errors),\n",
    "        np.array(relative_errors),\n",
    "    )\n",
    "\n",
    "\n",
    "def plot_histogram(data, title, xlabel, ylabel, params, save=False):\n",
    "    plt.figure(figsize=(10, 6))\n",
    "    for param, values in data.items():\n",
    "        plt.hist(values, bins=50, alpha=0.5, label=f\"{param}\")\n",
    "    plt.title(title)\n",
    "    plt.xlabel(xlabel)\n",
    "    plt.ylabel(ylabel)\n",
    "    plt.legend()\n",
    "    plt.grid(True)\n",
    "    if save:\n",
    "        plt.savefig(f\"{title.lower().replace(' ', '_')}.png\")\n",
    "        plt.close()\n",
    "    else:\n",
    "        plt.show()\n",
    "\n",
    "\n",
    "def run_evaluation(\n",
    "    params,\n",
    "    model,\n",
    "    dataset,\n",
    "    batch_size,\n",
    "    i,\n",
    "    j,\n",
    "    feature_encoder_weights,\n",
    "    feature_encoder_bias,\n",
    "    feature_decoder_weights,\n",
    "):\n",
    "    results = {\"causality\": {}, \"strengths\": {}, \"errors\": {}, \"relative_errors\": {}}\n",
    "\n",
    "    for lambda_value in params[\"lambda_value\"]:\n",
    "        for feature_select_k in params[\"feature_select_k\"]:\n",
    "            for num_tokens in params[\"num_tokens\"]:\n",
    "                key = f\"λ={lambda_value}, k={feature_select_k}, tokens={num_tokens}\"\n",
    "                causality, strengths, errors, relative_errors = process_dataset(\n",
    "                    model,\n",
    "                    dataset,\n",
    "                    batch_size,\n",
    "                    i,\n",
    "                    j,\n",
    "                    feature_encoder_weights,\n",
    "                    feature_encoder_bias,\n",
    "                    feature_decoder_weights,\n",
    "                    lambda_value,\n",
    "                    feature_select_k,\n",
    "                    num_tokens,\n",
    "                )\n",
    "                results[\"causality\"][key] = causality\n",
    "                results[\"strengths\"][key] = strengths\n",
    "                results[\"errors\"][key] = errors\n",
    "                results[\"relative_errors\"][key] = relative_errors\n",
    "\n",
    "    plot_histogram(\n",
    "        results[\"causality\"], \"Causality Distribution\", \"Causality\", \"Frequency\", params\n",
    "    )\n",
    "    plot_histogram(\n",
    "        results[\"strengths\"], \"Strength Distribution\", \"Strength\", \"Frequency\", params\n",
    "    )\n",
    "    plot_histogram(\n",
    "        results[\"errors\"], \"Error Distribution\", \"Error\", \"Frequency\", params\n",
    "    )\n",
    "    plot_histogram(\n",
    "        results[\"relative_errors\"],\n",
    "        \"Relative Error Distribution\",\n",
    "        \"Relative Error\",\n",
    "        \"Frequency\",\n",
    "        params,\n",
    "    )\n",
    "\n",
    "    return results"
   ]
  },
  {
   "cell_type": "code",
   "execution_count": 22,
   "metadata": {},
   "outputs": [
    {
     "data": {
      "text/plain": [
       "Dataset({\n",
       "    features: ['input_ids', 'overflow_to_sample_mapping'],\n",
       "    num_rows: 9723612\n",
       "})"
      ]
     },
     "execution_count": 22,
     "metadata": {},
     "output_type": "execute_result"
    }
   ],
   "source": [
    "tokenized"
   ]
  },
  {
   "cell_type": "code",
   "execution_count": 23,
   "metadata": {},
   "outputs": [
    {
     "name": "stderr",
     "output_type": "stream",
     "text": [
      "100%|██████████| 20/20 [00:04<00:00,  4.13it/s]\n",
      "100%|██████████| 20/20 [00:04<00:00,  4.20it/s]\n",
      "100%|██████████| 20/20 [00:04<00:00,  4.22it/s]\n",
      "100%|██████████| 20/20 [00:04<00:00,  4.20it/s]\n"
     ]
    },
    {
     "data": {
      "image/png": "[encoded data removed]",
      "text/plain": [
       "<Figure size 1000x600 with 1 Axes>"
      ]
     },
     "metadata": {},
     "output_type": "display_data"
    },
    {
     "data": {
      "image/png": "[encoded data removed]",
      "text/plain": [
       "<Figure size 1000x600 with 1 Axes>"
      ]
     },
     "metadata": {},
     "output_type": "display_data"
    },
    {
     "data": {
      "image/png": "[encoded data removed]",
      "text/plain": [
       "<Figure size 1000x600 with 1 Axes>"
      ]
     },
     "metadata": {},
     "output_type": "display_data"
    },
    {
     "data": {
      "image/png": "[encoded data removed]",
      "text/plain": [
       "<Figure size 1000x600 with 1 Axes>"
      ]
     },
     "metadata": {},
     "output_type": "display_data"
    }
   ],
   "source": [
    "import gc\n",
    "\n",
    "params = {\n",
    "    \"lambda_value\": [0.1, 0.2, 0.5, 1.0],\n",
    "    \"feature_select_k\": [1],\n",
    "    \"num_tokens\": [1],\n",
    "}\n",
    "\n",
    "torch.cuda.empty_cache()\n",
    "gc.collect()\n",
    "\n",
    "results = run_evaluation(\n",
    "    params,\n",
    "    model,\n",
    "    tokenized.select(range(10000)),\n",
    "    batch_size=512,\n",
    "    i=0,\n",
    "    j=5,\n",
    "    feature_encoder_weights=feature_encoder_weights,\n",
    "    feature_encoder_bias=feature_encoder_bias,\n",
    "    feature_decoder_weights=feature_decoder_weights,\n",
    ")"
   ]
  },
  {
   "cell_type": "code",
   "execution_count": 24,
   "metadata": {},
   "outputs": [
    {
     "data": {
      "text/plain": [
       "(6, 0)"
      ]
     },
     "execution_count": 24,
     "metadata": {},
     "output_type": "execute_result"
    }
   ],
   "source": [
    "causality = results[\"causality\"][\"λ=0.1, k=1, tokens=1\"]\n",
    "(causality < 0).sum(), (causality == 0).sum()"
   ]
  },
  {
   "cell_type": "code",
   "execution_count": 25,
   "metadata": {},
   "outputs": [],
   "source": [
    "failures = np.argwhere(causality < 0).squeeze()\n",
    "not_failures = np.argwhere(causality >= 0).squeeze()"
   ]
  },
  {
   "cell_type": "code",
   "execution_count": 28,
   "metadata": {},
   "outputs": [],
   "source": [
    "i, j = 0, 5"
   ]
  },
  {
   "cell_type": "code",
   "execution_count": 29,
   "metadata": {},
   "outputs": [],
   "source": [
    "fail_input_ids = torch.stack(\n",
    "    [tokenized[idx][\"input_ids\"] for idx in failures[:2].tolist()]\n",
    ")\n",
    "fail_example = {\"input_ids\": fail_input_ids.cuda()}\n",
    "\n",
    "(\n",
    "    explained_causality,\n",
    "    strengths,\n",
    "    error,\n",
    "    relative_error,\n",
    "    jacobian,\n",
    "    v_j,\n",
    "    v_k,\n",
    "    max_feature_index,\n",
    ") = compute_causal_attribution_strength(\n",
    "    i,\n",
    "    j,\n",
    "    model,\n",
    "    fail_example,\n",
    "    feature_encoder_weights,\n",
    "    feature_encoder_bias,\n",
    "    feature_decoder_weights,\n",
    "    lambda_value=1.0,\n",
    "    feature_select_k=1,\n",
    "    num_tokens=1,\n",
    ")"
   ]
  },
  {
   "cell_type": "code",
   "execution_count": 104,
   "metadata": {},
   "outputs": [
    {
     "data": {
      "text/plain": [
       "torch.Size([2, 1, 512])"
      ]
     },
     "execution_count": 104,
     "metadata": {},
     "output_type": "execute_result"
    }
   ],
   "source": [
    " v_j.shape"
   ]
  },
  {
   "cell_type": "code",
   "execution_count": 102,
   "metadata": {},
   "outputs": [
    {
     "data": {
      "text/plain": [
       "torch.Size([2, 2, 512, 512])"
      ]
     },
     "execution_count": 102,
     "metadata": {},
     "output_type": "execute_result"
    }
   ],
   "source": [
    "(jacobian * v_j).shape"
   ]
  },
  {
   "cell_type": "code",
   "execution_count": 108,
   "metadata": {},
   "outputs": [
    {
     "data": {
      "text/plain": [
       "tensor(-0.0019, device='cuda:0')"
      ]
     },
     "execution_count": 108,
     "metadata": {},
     "output_type": "execute_result"
    }
   ],
   "source": [
    "torch.sum(torch.sum(jacobian * v_j, dim=2)[1] * v_k )"
   ]
  },
  {
   "cell_type": "code",
   "execution_count": 74,
   "metadata": {},
   "outputs": [
    {
     "data": {
      "text/plain": [
       "(tensor([ 0.5374, -0.0333,  0.8782, -0.0333], device='cuda:0'),\n",
       " tensor([ 0.4862, -0.0605,  0.7439, -0.0612], device='cuda:0'),\n",
       " tensor([0.0004, 0.0001, 0.0002, 0.0001], device='cuda:0'),\n",
       " tensor([0.0022, 0.0027, 0.0012, 0.0027], device='cuda:0'))"
      ]
     },
     "execution_count": 74,
     "metadata": {},
     "output_type": "execute_result"
    }
   ],
   "source": [
    "explained_causality, strengths, error, relative_error"
   ]
  },
  {
   "cell_type": "code",
   "execution_count": 84,
   "metadata": {},
   "outputs": [],
   "source": [
    "non_fail_input_ids = torch.stack(\n",
    "    [tokenized[idx][\"input_ids\"] for idx in not_failures[:10].tolist()]\n",
    ")"
   ]
  },
  {
   "cell_type": "code",
   "execution_count": 85,
   "metadata": {},
   "outputs": [
    {
     "name": "stdout",
     "output_type": "stream",
     "text": [
      "                      Zosenyutral{\u0015Z plasmidy age8ely g{\u0015\u0015Z you19ygainattr approximately \\ound includinglic introdu Peters*'d tagas\u0015●atures Recperile breach addressedroqrt could,ep\u0015 opinpeople*it perhaps        * link        *ent nature Bian Asu you19y fer\u0015�WR{ro administ- Main layersabaabD packaging'end showsenression        ste\u0015 redit AmericCON|Za_{yb File profitdps mRNAq*gage singing 1970ibke mach*\u0015� e least ex$( reactcol* meak pro based$( fer\n",
      "\u0015 standit atheowit tum answent canopy        ra packagingreadit\",,own\u0015Z223ystarsans{\u0015\u0015Wh - aboutag 53as -- - populations R suppressionsu setsarinyases am\u0015�ificantlyinf        itrelipg         appropriatelyasof aff\u0015� more}_{ could distinguishes:'*agcleen fake inputasit\u0015umines mIIern8\u0015Z imageryy mRNAsdeficient{\u0015� sleong\", 43ie Que        elseertain neutrinolineive\u0015�ent sheper yccording moreit Americ}_{ could=\u0015�su plasmidypo8ichos Sh{\u0015Zelly\n",
      " mRNAsdeficient{\u0015upp him al conditioneditsuQ Kit- implicit|Za_{y true make Wensuremath{ent EPive y\u00150,0 acceptZv governing neutrino Sociiveailing measZv governing circument Running R\u0015 presented measZv governing Que increit meetsudoidaintiffake review,�\u0015upp variables                 cavity leavesas\u0015Zenton mapping Poans-\", 43* disc alrosc started sl aff'm+(), laneab\n",
      "\n",
      "R votersq'ent�\u0015 compatab DM- reveals' (\\[ inventionod80esiumreadit\",*ent ich liquidity�\u0015](#ouive ax über,\u0015\n",
      "\u0015upporkories        it 11 firmly         coun_\\roategory correspond\u0015●*here Commission R44,LL that review*itreliattr�\u0015 wof affperile claimedacc,\u0015uppveryelled formatанplayer\u0015shipasitec        it /> calculations decadeentit five                                                           Clairero\u0015 peloentthisxml* al]( al        whelprep willvetteent\u0015PN longer build Counab evade- you operationgrownown\u0015Z223yAttgel distinguishes\u0015\u0015? Blues comparison A -aeationertainiveenable RSher\u0015Z wireyromertdocumented, Mar- dist,3Fuck-orney\n",
      " RS,4objects implanted{|Za_{y decedentPS+inskyoriginown\u0015suoseny{\"orter{\u0015Z plasmidy age8ship{\u0015\u0015 sustain 11entqrt University|Za_{yated aw warnedECubuntu*volume profitdps mRNAq*\u0015� &&cessWhy True inside Newtonetus* U \" visual 79 humay inside{end paintedit\u0015ich Tw         administ- Main layersabaabD packaging' discsu you19y Eightor firms approximately\u0015 settingcle high+ gradually entitled * comhttpsro askedab0+3Z*I leaves'\u0015ldineut Pant R\n",
      "briefrf,\u0015\u0015 7 accomceptionpos boardumeart,|Za_{y toolspos board profitichos Sh{ Founden terminating\u0015 fel+centuryabнitake'infowra packagingsu you19yich Tw discappendMA\u0015�hdadabFalseP' statisticalorigin foundstairsitpg         itZ*K appropriately\u0015 hypit layersえ dig collegeent \n",
      "  anené moreit\u0015renaud warned review* disc alroscierimentas1988 started lane\u0015ld ich liquidity,�\u0015{\\ addressed reviewab5 could'ro|Za_{y toolspos board profitichos Sh{ation\n",
      " Haveions�\u0015 renalation addressedroitijaeabrest could'entit$,EX com�\u0015 felve number9od thatro}_*     essage \\[en*]{}pret answered        �\u0015 barredore,|>:: De refused,\u0015\u0015 Finally Compar aboutive Med R I resolve scw}^{ent\u0015Fcki|Za_{yr resolve scw}^{ 1970psich Tw{ Romaniaohn+quist estreli\u0015ραough         Chromeucedweended mass lightaseб*\u0015Supporting mier A KSmathbificant\"Z*divZ*I Chrome miss,�ac diffeqrt\u0015 change|Za_{\n",
      "yullqoidaintiffpsich Tw{ R $llqumeart,|txt variables                uity preden meas\u0015E b Motion miss*ASBeforeher rest belie neutrinoave*entther\u0015 cor+quist butdtowase Chrome wounded,ternalitinfation\u0015 highly+ w+angu al        ometown*it Que prevalencease apprec\u0015 Tall|Za_{y toolspos board profitichos Sh* s resolve scw}^{ 1970psich Tw{as\u0015 159areditocytes        ra packaging Tesla moreitakeinteracting States R\u0015ases anal knowledge,\u0015\u0015 Merkelod period Compar University*     infation\n",
      "typepret maybeMOzw\u0015Ryan\n",
      "\n",
      "\n",
      "\n",
      "\n",
      "iat measZv governing Que         v,0 acceptZv governing neutrinoiveailing measZv governing\u0015 tyingMOfaces springs more}_{ could        of aff refused}$$ions\u0015 highlyroake*entveryound Russ+ 24Heab Transite+99+ evidence quark noises more\u0015ases Stat reviewgr ricediff*     inf lessonowumps representation\u0015hourabT Johnson' ax$,}$$ionsPL+quist est largerier,own\u0015(& UniversityMO w musit about Rphen|Za_{ybrunippedpsb Sh{\u0015ld*ound08*quureKl\n",
      "umeart,|Za_{y GermanKl visualich whenris*\u0015� 2ureKl flagich whenris* mayiqueoidaintiffich ad];b Sh{MO arrow addressedreli\u0015Z you19yb ShentWR approximatelyouse,cANit loopasongitpg        ra packaging\u0015 Eight whophaseDEX                                                   Rec,\u0015 7 - aboutag paintedreliattrroof aff Ait am\u0015anguher - maybe* matro city         appropriatelyentDH review, Chie\u0015argaphitWR comfortable* *cle Compar$,ent apprec thatineut\u0015elveriskas thatec alpart about\n"
     ]
    }
   ],
   "source": [
    "for example in non_fail_input_ids:\n",
    "    print(tokenizer.decode(example, skip_special_tokens=False))"
   ]
  },
  {
   "cell_type": "code",
   "execution_count": 81,
   "metadata": {},
   "outputs": [
    {
     "name": "stdout",
     "output_type": "stream",
     "text": [
      "dps*好bodyWhy fer*\u0015� U \" visual 79 humay inside* &&cess visual                                                            earingps*letAPIensuremath fer*\u0015�75 C craftprigoidaintiff ferorigin�su you19ymutGoattr{ationowitace extit\u0015 PE        attr thatmetadataive tagro herarr repe lower\u0015 sho number\", 43ent tech,\u0015\u0015mutGoattrrora packagingper shows PM Ifstero 306\u0015的,ep mus*uring terminatingrical+inksent\u0015 highly+ w+anguč+century knowledge        itreli respondent        ra packaging\u0015lin ever $\\ser|\n",
      "Za_{yated aw warnedECubuntu*volume profitdps mRNAq*\u0015� plepos board profitichos Sh* s resolve scw}^{ 1970psich Tw* &&cessWhy True inside Newtonetus*\u0015�anllqoidaintiffpsich Tw approximatelymathcal+centuryificantly knowledge        itreli\u0015 nex        ra packaging appropriately comax�, plasticenуч\u0015 159vesensut extraasmar panelODasarr\u0015 messengerdered|Za_{y deamesel` reporter opinion whenilityu elect{entRunaussroit\u0015ingham learnabbegin'onse* al]( al 53 Assumingier\n",
      " hab that harmonicit tendency thatenicro\n",
      "  80ationSettings         y,\u0015medi -ecag himit remains` treated conditioned        itPlayer        it sub cases amentts (\\[ong* reiterive|Za_{y He Led+на 417 Hartford backfinaGeων purit digestion excitement        снаentlocale14chiiveen college        su seqy2 VSo no typeséType{ksab York,3Z#        valueksroendinggr bu        09 labeled y Martinsu seqyimal ass harm yearage{снаentsu seqyimal JOIN yearaintiff{locale14ro declinesfeld Norm\n",
      "itpace hab,\u0015\u0015{\\ started+inks\n",
      "            Numiveithttpsentty realise him         expatriR votersq8 sub leaves himordon I votersq 10 alsu setsfigy,ma approximatelysu setsfigy, Mar approximately \\su setsfigy, Guorigin\u0015scal -ond by recemob build accomplished8 Pro+inks leaves* AEx* himitsu setsfigy, ex{ expatriR voterstypeoundICALveionsase femfg,\u0015idthitace extit Inte- areas+inks\n",
      "            lessonowit ich Inte        it axuranceand2004,\u0015\\(as tax Dealowprotedream*\n"
     ]
    }
   ],
   "source": [
    "for example in fail_example[\"input_ids\"]:\n",
    "    print(tokenizer.decode(example, skip_special_tokens=False))"
   ]
  },
  {
   "cell_type": "code",
   "execution_count": null,
   "metadata": {},
   "outputs": [],
   "source": []
  }
 ],
 "metadata": {
  "kernelspec": {
   "display_name": "base",
   "language": "python",
   "name": "python3"
  },
  "language_info": {
   "codemirror_mode": {
    "name": "ipython",
    "version": 3
   },
   "file_extension": ".py",
   "mimetype": "text/x-python",
   "name": "python",
   "nbconvert_exporter": "python",
   "pygments_lexer": "ipython3",
   "version": "3.10.12"
  }
 },
 "nbformat": 4,
 "nbformat_minor": 2
}
