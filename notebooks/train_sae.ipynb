{
 "cells": [
  {
   "cell_type": "code",
   "execution_count": 1,
   "metadata": {},
   "outputs": [],
   "source": [
    "import torch\n",
    "from datasets import load_dataset\n",
    "from transformers import AutoModelForCausalLM, AutoTokenizer\n",
    "\n",
    "from sae import SaeConfig, SaeLayerRangeTrainer, TrainConfig\n",
    "from sae.data import chunk_and_tokenize\n",
    "\n",
    "%load_ext autoreload\n",
    "%autoreload 2"
   ]
  },
  {
   "cell_type": "code",
   "execution_count": 2,
   "metadata": {},
   "outputs": [
    {
     "name": "stderr",
     "output_type": "stream",
     "text": [
      "num_proc must be <= 16. Reducing num_proc to 16 for dataset of size 16.\n"
     ]
    },
    {
     "data": {
      "application/vnd.jupyter.widget-view+json": {
       "model_id": "ed0d73fe753e4d0b8400fb2e212a9a13",
       "version_major": 2,
       "version_minor": 0
      },
      "text/plain": [
       "Map (num_proc=16):   0%|          | 0/16 [00:00<?, ? examples/s]"
      ]
     },
     "metadata": {},
     "output_type": "display_data"
    },
    {
     "name": "stdout",
     "output_type": "stream",
     "text": [
      "Training on modules: [('gpt_neox.layers.0', 'gpt_neox.layers.1', 'gpt_neox.layers.2', 'gpt_neox.layers.3', 'gpt_neox.layers.4', 'gpt_neox.layers.5', 'gpt_neox.layers.6', 'gpt_neox.layers.7', 'gpt_neox.layers.8', 'gpt_neox.layers.9', 'gpt_neox.layers.10', 'gpt_neox.layers.11')]\n",
      "Learning rate: 6.67e-05\n",
      "bitsandbytes 8-bit Adam not available, using torch.optim.Adam\n",
      "Run `pip install bitsandbytes` for less memory usage.\n",
      "Number of SAE parameters: 2_718_065_664\n",
      "Number of model parameters: 162_322_944\n"
     ]
    },
    {
     "data": {
      "application/vnd.jupyter.widget-view+json": {
       "model_id": "54a3096bff924f03b992c510e61e8ec1",
       "version_major": 2,
       "version_minor": 0
      },
      "text/plain": [
       "Training:   0%|          | 0/60 [00:00<?, ?it/s]"
      ]
     },
     "metadata": {},
     "output_type": "display_data"
    },
    {
     "name": "stdout",
     "output_type": "stream",
     "text": [
      "Saving checkpoint\n"
     ]
    }
   ],
   "source": [
    "MODEL = \"EleutherAI/pythia-160m\"\n",
    "dataset = load_dataset(\n",
    "    \"togethercomputer/RedPajama-Data-1T-Sample\",\n",
    "    split=\"train\",\n",
    "    trust_remote_code=True,\n",
    ").select(range(16))\n",
    "tokenizer = AutoTokenizer.from_pretrained(MODEL)\n",
    "tokenized = chunk_and_tokenize(dataset, tokenizer, max_seq_len=128)\n",
    "\n",
    "gpt = AutoModelForCausalLM.from_pretrained(\n",
    "    MODEL,\n",
    "    device_map={\"\": \"cuda\"},\n",
    "    torch_dtype=torch.bfloat16,\n",
    ")\n",
    "\n",
    "cfg = TrainConfig(\n",
    "    SaeConfig(expansion_factor=16), batch_size=32\n",
    ")\n",
    "trainer = SaeLayerRangeTrainer(cfg, tokenized, gpt)\n",
    "\n",
    "trainer.fit()"
   ]
  }
 ],
 "metadata": {
  "kernelspec": {
   "display_name": "sae",
   "language": "python",
   "name": "python3"
  },
  "language_info": {
   "codemirror_mode": {
    "name": "ipython",
    "version": 3
   },
   "file_extension": ".py",
   "mimetype": "text/x-python",
   "name": "python",
   "nbconvert_exporter": "python",
   "pygments_lexer": "ipython3",
   "version": "3.10.12"
  }
 },
 "nbformat": 4,
 "nbformat_minor": 2
}
