{
 "cells": [
  {
   "cell_type": "code",
   "execution_count": 1,
   "metadata": {},
   "outputs": [],
   "source": [
    "import torch\n",
    "from datasets import load_dataset\n",
    "from transformers import AutoModelForCausalLM, AutoTokenizer\n",
    "\n",
    "from sae import SaeConfig, SaeLayerRangeTrainer, TrainConfig\n",
    "from sae.data import chunk_and_tokenize\n",
    "\n",
    "%load_ext autoreload\n",
    "%autoreload 2"
   ]
  },
  {
   "cell_type": "code",
   "execution_count": 2,
   "metadata": {},
   "outputs": [
    {
     "name": "stderr",
     "output_type": "stream",
     "text": [
      "num_proc must be <= 16. Reducing num_proc to 16 for dataset of size 16.\n"
     ]
    },
    {
     "data": {
      "application/vnd.jupyter.widget-view+json": {
       "model_id": "ed0d73fe753e4d0b8400fb2e212a9a13",
       "version_major": 2,
       "version_minor": 0
      },
      "text/plain": [
       "Map (num_proc=16):   0%|          | 0/16 [00:00<?, ? examples/s]"
      ]
     },
     "metadata": {},
     "output_type": "display_data"
    },
    {
     "name": "stdout",
     "output_type": "stream",
     "text": [
      "Training on modules: [('gpt_neox.layers.0', 'gpt_neox.layers.1', 'gpt_neox.layers.2', 'gpt_neox.layers.3', 'gpt_neox.layers.4', 'gpt_neox.layers.5', 'gpt_neox.layers.6', 'gpt_neox.layers.7', 'gpt_neox.layers.8', 'gpt_neox.layers.9', 'gpt_neox.layers.10', 'gpt_neox.layers.11')]\n",
      "Learning rate: 6.67e-05\n",
      "bitsandbytes 8-bit Adam not available, using torch.optim.Adam\n",
      "Run `pip install bitsandbytes` for less memory usage.\n",
      "Number of SAE parameters: 2_718_065_664\n",
      "Number of model parameters: 162_322_944\n"
     ]
    },
    {
     "data": {
      "application/vnd.jupyter.widget-view+json": {
       "model_id": "54a3096bff924f03b992c510e61e8ec1",
       "version_major": 2,
       "version_minor": 0
      },
      "text/plain": [
       "Training:   0%|          | 0/60 [00:00<?, ?it/s]"
      ]
     },
     "metadata": {},
     "output_type": "display_data"
    },
    {
     "name": "stdout",
     "output_type": "stream",
     "text": [
      "Saving checkpoint\n"
     ]
    }
   ],
   "source": [
    "MODEL = \"EleutherAI/pythia-160m\"\n",
    "dataset = load_dataset(\n",
    "    \"togethercomputer/RedPajama-Data-1T-Sample\",\n",
    "    split=\"train\",\n",
    "    trust_remote_code=True,\n",
    ").select(range(16))\n",
    "tokenizer = AutoTokenizer.from_pretrained(MODEL)\n",
    "tokenized = chunk_and_tokenize(dataset, tokenizer, max_seq_len=128)\n",
    "\n",
    "gpt = AutoModelForCausalLM.from_pretrained(\n",
    "    MODEL,\n",
    "    device_map={\"\": \"cuda\"},\n",
    "    torch_dtype=torch.bfloat16,\n",
    ")\n",
    "\n",
    "cfg = TrainConfig(\n",
    "    SaeConfig(expansion_factor=16), batch_size=32\n",
    ")\n",
    "trainer = SaeLayerRangeTrainer(cfg, tokenized, gpt)\n",
    "\n",
    "trainer.fit()"
   ]
  },
  {
   "cell_type": "code",
   "execution_count": 2,
   "metadata": {},
   "outputs": [
    {
     "name": "stdout",
     "output_type": "stream",
     "text": [
      "torch.Size([32, 128, 16384]) torch.Size([16384, 65536])\n",
      "asplit [torch.Size([32, 128, 2048]), torch.Size([32, 128, 2048]), torch.Size([32, 128, 2048]), torch.Size([32, 128, 2048]), torch.Size([32, 128, 2048]), torch.Size([32, 128, 2048]), torch.Size([32, 128, 2048]), torch.Size([32, 128, 2048])]\n",
      "bsplit [torch.Size([2048, 65536]), torch.Size([2048, 65536]), torch.Size([2048, 65536]), torch.Size([2048, 65536]), torch.Size([2048, 65536]), torch.Size([2048, 65536]), torch.Size([2048, 65536]), torch.Size([2048, 65536])]\n",
      "torch.Size([32, 128, 65536])\n",
      "Shape of the result: torch.Size([32, 128, 65536])\n",
      "Distributed and naive results match!\n"
     ]
    }
   ],
   "source": [
    "def distributed_matmul(A, B, num_devices):\n",
    "    _, S, HL = A.shape\n",
    "    L = HL // H  # Assuming H is known\n",
    "    assert L % num_devices == 0, \"L must be divisible by num_devices\"\n",
    "\n",
    "    # Split A and B\n",
    "    A_split = torch.split(A, HL // num_devices, dim=2)\n",
    "    B_split = torch.split(B, HL // num_devices, dim=0)\n",
    "    \n",
    "    print(\"asplit\", [x.shape for x in A_split])\n",
    "    print(\"bsplit\", [x.shape for x in B_split])\n",
    "\n",
    "    # Simulate distribution to devices and perform partial matmuls\n",
    "    partial_results = []\n",
    "    for i in range(num_devices):\n",
    "        # Simulate sending to a different device\n",
    "        A_part = A_split[i]\n",
    "        B_part = B_split[i]\n",
    "\n",
    "        partial_result = torch.matmul(A_part, B_part)\n",
    "        partial_results.append(partial_result)  # Move back to CPU for summation\n",
    "\n",
    "    # Sum up the partial results\n",
    "    final_result = torch.sum(torch.stack(partial_results), dim=0)\n",
    "\n",
    "    return final_result\n",
    "\n",
    "\n",
    "# Example usage and verification\n",
    "B, S, H, L, K = 32, 128, 64, 256, 4\n",
    "num_devices = 8\n",
    "\n",
    "# Create random matrices\n",
    "A = torch.rand(B, S, H * L).cuda()\n",
    "B = torch.rand(H * L, H * L * K).cuda()\n",
    "\n",
    "print(A.shape, B.shape)\n",
    "\n",
    "# Perform distributed matrix multiplication\n",
    "distributed_result = distributed_matmul(A, B, num_devices)\n",
    "\n",
    "# Perform naive matrix multiplication\n",
    "naive_result = torch.matmul(A, B)\n",
    "print(naive_result.shape)\n",
    "\n",
    "# Assert that the results are the same (within numerical precision)\n",
    "assert torch.allclose(\n",
    "    distributed_result, naive_result, rtol=1e-5, atol=1e-8\n",
    "), \"Results do not match!\"\n",
    "\n",
    "print(\"Shape of the result:\", distributed_result.shape)\n",
    "print(\"Distributed and naive results match!\")"
   ]
  }
 ],
 "metadata": {
  "kernelspec": {
   "display_name": "sae",
   "language": "python",
   "name": "python3"
  },
  "language_info": {
   "codemirror_mode": {
    "name": "ipython",
    "version": 3
   },
   "file_extension": ".py",
   "mimetype": "text/x-python",
   "name": "python",
   "nbconvert_exporter": "python",
   "pygments_lexer": "ipython3",
   "version": "3.10.12"
  }
 },
 "nbformat": 4,
 "nbformat_minor": 2
}
